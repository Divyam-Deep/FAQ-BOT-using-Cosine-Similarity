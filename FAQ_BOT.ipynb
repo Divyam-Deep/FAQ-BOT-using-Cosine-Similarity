{
  "nbformat": 4,
  "nbformat_minor": 0,
  "metadata": {
    "colab": {
      "provenance": [],
      "authorship_tag": "ABX9TyM6muhm0ExMisMS/O1wU9a8",
      "include_colab_link": true
    },
    "kernelspec": {
      "name": "python3",
      "display_name": "Python 3"
    },
    "language_info": {
      "name": "python"
    }
  },
  "cells": [
    {
      "cell_type": "markdown",
      "metadata": {
        "id": "view-in-github",
        "colab_type": "text"
      },
      "source": [
        "<a href=\"https://colab.research.google.com/github/Divyam-Deep/FAQ-BOT-using-Cosine-Similarity/blob/main/FAQ_BOT.ipynb\" target=\"_parent\"><img src=\"https://colab.research.google.com/assets/colab-badge.svg\" alt=\"Open In Colab\"/></a>"
      ]
    },
    {
      "cell_type": "code",
      "execution_count": 3,
      "metadata": {
        "colab": {
          "base_uri": "https://localhost:8080/"
        },
        "id": "PnHuD_PvhCOJ",
        "outputId": "f0ea3d75-8f94-40c4-c820-d99e48399b46"
      },
      "outputs": [
        {
          "output_type": "stream",
          "name": "stderr",
          "text": [
            "[nltk_data] Downloading package punkt to /root/nltk_data...\n",
            "[nltk_data]   Package punkt is already up-to-date!\n"
          ]
        }
      ],
      "source": [
        "import nltk\n",
        "nltk.download('punkt')\n",
        "from sklearn.feature_extraction.text import TfidfVectorizer\n",
        "from sklearn.metrics.pairwise import cosine_similarity"
      ]
    },
    {
      "cell_type": "code",
      "source": [
        "faq_data = {\n",
        "      \"How do I place an order?\": \"To place an order, browse our products, add items to your cart, and proceed to checkout.\",\n",
        "        \"Can I cancel or modify my order?\": \"Yes, you can cancel or modify your order before it is shipped. Go to 'My Orders' and select the order you wish to modify or cancel.\",\n",
        "        \"How do I track my order?\": \"You can track your order by visiting the 'Order History' section in your account and clicking 'Track Order'.\"\n",
        "}\n",
        "questions = list(faq_data.keys())\n",
        "answers = list(faq_data.values())"
      ],
      "metadata": {
        "id": "9bsf5GSRhY8-"
      },
      "execution_count": 4,
      "outputs": []
    },
    {
      "cell_type": "code",
      "source": [
        "vectorizer = TfidfVectorizer()\n",
        "matrix = vectorizer.fit_transform(questions)\n",
        "\n",
        "def get_answer(user_query):\n",
        "    question_vector = vectorizer.transform([user_query])\n",
        "    similarity = cosine_similarity(question_vector, matrix)\n",
        "    match_index = similarity.argmax()\n",
        "    match_score = similarity[0,match_index]\n",
        "\n",
        "    threshold = 0.1\n",
        "\n",
        "    if match_score >=threshold:\n",
        "      return answers[match_index]\n",
        "    else:\n",
        "      return \"I'm sorry, I don't have an answer for that question. Contact Support\""
      ],
      "metadata": {
        "id": "00zSdDouiPkl"
      },
      "execution_count": 5,
      "outputs": []
    },
    {
      "cell_type": "code",
      "source": [
        "while True:\n",
        "  user_query = input(\"Ask a question: \")\n",
        "  if user_query.lower() == 'exit':\n",
        "    print('Thank You')\n",
        "    break\n",
        "\n",
        "  answer = get_answer(user_query)\n",
        "  print(answer)"
      ],
      "metadata": {
        "colab": {
          "base_uri": "https://localhost:8080/"
        },
        "id": "3NmRLzsRkX-s",
        "outputId": "b45da6dd-3997-46b1-cb62-cb4ed9e069fd"
      },
      "execution_count": 6,
      "outputs": [
        {
          "output_type": "stream",
          "name": "stdout",
          "text": [
            "Ask a question: How do I place an order?\n",
            "To place an order, browse our products, add items to your cart, and proceed to checkout.\n",
            "Ask a question: cancel my order\n",
            "Yes, you can cancel or modify your order before it is shipped. Go to 'My Orders' and select the order you wish to modify or cancel.\n",
            "Ask a question: good morning\n",
            "I'm sorry, I don't have an answer for that question. Contact Support\n",
            "Ask a question: exit\n",
            "Thank You\n"
          ]
        }
      ]
    },
    {
      "cell_type": "code",
      "source": [],
      "metadata": {
        "id": "1MtBnUEKk6J8"
      },
      "execution_count": null,
      "outputs": []
    }
  ]
}